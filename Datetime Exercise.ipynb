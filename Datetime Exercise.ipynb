{
 "cells": [
  {
   "cell_type": "markdown",
   "metadata": {},
   "source": [
    "# Datetime Exercise"
   ]
  },
  {
   "cell_type": "code",
   "execution_count": 1,
   "metadata": {},
   "outputs": [],
   "source": [
    "# import datetime module\n",
    "import datetime"
   ]
  },
  {
   "cell_type": "code",
   "execution_count": 3,
   "metadata": {},
   "outputs": [],
   "source": [
    "# function to compute number of days in month from input year, month\n",
    "def days_in_month(year, month):\n",
    "    \"\"\"\n",
    "    Inputs:\n",
    "      year  - an integer between datetime.MINYEAR and datetime.MAXYEAR\n",
    "              representing the year\n",
    "      month - an integer between 1 and 12 representing the month\n",
    "\n",
    "    Returns:\n",
    "      The number of days in the input month.\n",
    "    \"\"\"\n",
    "    if (datetime.MINYEAR <= year <= datetime.MAXYEAR) and (month == 12): # algorithm for December\n",
    "        return ((datetime.date(year + 1, 1, 1))-(datetime.date(year, month, 1))).days\n",
    "    elif (datetime.MINYEAR <= year <= datetime.MAXYEAR) and (1 <= month <= 11): # algorithm for other than December\n",
    "        return ((datetime.date(year, month + 1, 1))-(datetime.date(year, month, 1))).days\n",
    "    else:\n",
    "        return False\n"
   ]
  },
  {
   "cell_type": "code",
   "execution_count": 5,
   "metadata": {},
   "outputs": [
    {
     "name": "stdout",
     "output_type": "stream",
     "text": [
      "28\n",
      "29\n",
      "31\n"
     ]
    }
   ],
   "source": [
    "# test days_in_month function\n",
    "print(days_in_month(2001, 2))\n",
    "print(days_in_month(2000, 2))\n",
    "print(days_in_month(2019, 12))"
   ]
  },
  {
   "cell_type": "code",
   "execution_count": 7,
   "metadata": {},
   "outputs": [],
   "source": [
    "# function to test for valid date based on input\n",
    "def is_valid_date(year, month, day):\n",
    "    \"\"\"\n",
    "    Inputs:\n",
    "      year  - an integer representing the year\n",
    "      month - an integer representing the month\n",
    "      day   - an integer representing the day\n",
    "\n",
    "    Returns:\n",
    "      True if year-month-day is a valid date and\n",
    "      False otherwise\n",
    "    \"\"\"\n",
    "    if (datetime.MINYEAR <= year <= datetime.MAXYEAR) \\\n",
    "        and (1 <= month <= 12) and (1 <= day <= (days_in_month(year, month))): # using previous function \n",
    "        return True\n",
    "    else:\n",
    "        return False\n"
   ]
  },
  {
   "cell_type": "code",
   "execution_count": 9,
   "metadata": {},
   "outputs": [
    {
     "name": "stdout",
     "output_type": "stream",
     "text": [
      "True\n",
      "False\n",
      "True\n"
     ]
    }
   ],
   "source": [
    "# test is_valid_date function\n",
    "print(is_valid_date(1776, 7, 3))\n",
    "print(is_valid_date(2003, 2, 29))\n",
    "print(is_valid_date(2020, 12, 31))"
   ]
  },
  {
   "cell_type": "code",
   "execution_count": 13,
   "metadata": {},
   "outputs": [],
   "source": [
    "# function to calculate days between two dates\n",
    "def days_between(year1, month1, day1, year2, month2, day2):\n",
    "    \"\"\"\n",
    "    Inputs:\n",
    "      year1  - an integer representing the year of the first date\n",
    "      month1 - an integer representing the month of the first date\n",
    "      day1   - an integer representing the day of the first date\n",
    "      year2  - an integer representing the year of the second date\n",
    "      month2 - an integer representing the month of the second date\n",
    "      day2   - an integer representing the day of the second date\n",
    "\n",
    "    Returns one of the following:\n",
    "      The number of days from the first date to the second date or\n",
    "      Returns 0 if either date is invalid or the second date is\n",
    "      before the first date.\n",
    "    \"\"\"\n",
    "    if (is_valid_date(year1, month1, day1) == True) \\\n",
    "        and (is_valid_date(year2, month2, day2) == True) \\\n",
    "        and datetime.date(year1, month1, day1) < datetime.date(year2, month2, day2): \n",
    "        return (datetime.date(year2, month2, day2)-datetime.date(year1, month1, day1)).days\n",
    "    else:\n",
    "        return 0\n"
   ]
  },
  {
   "cell_type": "code",
   "execution_count": 16,
   "metadata": {},
   "outputs": [
    {
     "name": "stdout",
     "output_type": "stream",
     "text": [
      "365\n",
      "0\n",
      "0\n"
     ]
    }
   ],
   "source": [
    "# test days_between function\n",
    "print(days_between(2008, 9, 23, 2009, 9, 23))\n",
    "print(days_between(2016, 11, 7, 2016, 11, 31))\n",
    "print(days_between(2001, 12, 6, 2001, 12, 1))"
   ]
  },
  {
   "cell_type": "code",
   "execution_count": 17,
   "metadata": {},
   "outputs": [],
   "source": [
    "# function to calculate how many days old someone is today\n",
    "def age_in_days(year, month, day):\n",
    "    \"\"\"\n",
    "    Inputs:\n",
    "      year  - an integer representing the birthday year\n",
    "      month - an integer representing the birthday month\n",
    "      day   - an integer representing the birthday day\n",
    "\n",
    "    Returns:\n",
    "      The age of a person with the input birthday as of today or\n",
    "      Returns 0 if the input date is invalid or if the input\n",
    "      date is in the future.\n",
    "    \"\"\"\n",
    "    if (is_valid_date(year, month, day)==True)\\\n",
    "        and datetime.date(year, month, day) <= datetime.date.today():\n",
    "        return (datetime.date.today() - datetime.date(year, month, day)).days\n",
    "    else:\n",
    "        return 0\n"
   ]
  },
  {
   "cell_type": "code",
   "execution_count": 18,
   "metadata": {},
   "outputs": [
    {
     "name": "stdout",
     "output_type": "stream",
     "text": [
      "222\n",
      "0\n",
      "0\n"
     ]
    }
   ],
   "source": [
    "# test age_in_days function\n",
    "print(age_in_days(2019, 2, 20))\n",
    "print(age_in_days(2025, 9, 1))\n",
    "print(age_in_days(2005, 11, 31))"
   ]
  }
 ],
 "metadata": {
  "kernelspec": {
   "display_name": "Python 3",
   "language": "python",
   "name": "python3"
  },
  "language_info": {
   "codemirror_mode": {
    "name": "ipython",
    "version": 3
   },
   "file_extension": ".py",
   "mimetype": "text/x-python",
   "name": "python",
   "nbconvert_exporter": "python",
   "pygments_lexer": "ipython3",
   "version": "3.7.3"
  }
 },
 "nbformat": 4,
 "nbformat_minor": 2
}
